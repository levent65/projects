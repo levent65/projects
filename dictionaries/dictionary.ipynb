{
 "cells": [
  {
   "cell_type": "code",
   "execution_count": 2,
   "metadata": {},
   "outputs": [
    {
     "name": "stdout",
     "output_type": "stream",
     "text": [
      "{}\n",
      "{'one': 1, 2: 'two', 'three': [1.1, 2.22, 3.333], 4: {'cat': 'dog', 555: '3 fives'}}\n",
      "dict_keys(['one', 2, 'three', 4])\n",
      "dict_values([1, 'two', [1.1, 2.22, 3.333], {'cat': 'dog', 555: '3 fives'}])\n"
     ]
    }
   ],
   "source": [
    "# Create an empty dictionary\n",
    "d = {}\n",
    "print(d)\n",
    "\n",
    "# Add some key:value pair to d\n",
    "d[\"one\"] = 1\n",
    "d[2] = \"two\"\n",
    "d[\"three\"]= [1.1,2.22,3.333]\n",
    "d[4] = {\"cat\": \"dog\", 555: \"3 fives\"}\n",
    "print(d)\n",
    "\n",
    "# Look at the keys in d\n",
    "print(d.keys())\n",
    "\n",
    "# Look at the values in d\n",
    "print(d.values())"
   ]
  },
  {
   "cell_type": "code",
   "execution_count": 3,
   "metadata": {},
   "outputs": [
    {
     "name": "stdout",
     "output_type": "stream",
     "text": [
      "<class 'list'> <class 'float'>\n",
      "[1.1, 2.22, 3.333] 2.22\n",
      "2.22\n"
     ]
    }
   ],
   "source": [
    "# Access the 2nd list value in key \"three\"\n",
    "val = d[\"three\"]\n",
    "val2 = d[\"three\"][1]\n",
    "\n",
    "print(type(val), type(val2))\n",
    "print(val, val2)\n",
    "\n",
    "# Combine val and val2 into a single call\n",
    "val3 = d[\"three\"][1]\n",
    "print(val3)"
   ]
  },
  {
   "cell_type": "code",
   "execution_count": 4,
   "metadata": {},
   "outputs": [
    {
     "name": "stdout",
     "output_type": "stream",
     "text": [
      "<class 'dict'> <class 'str'>\n",
      "{'cat': 'dog', 555: '3 fives'} 3 fives\n",
      "3 fives\n"
     ]
    }
   ],
   "source": [
    "# Access the 2nd key of the 4th key in d\n",
    "val4 = d[4]\n",
    "val5 = d[4][555]\n",
    "print(type(val4), type(val5))\n",
    "print(val4, val5)\n",
    "\n",
    "# Refactor val3 and val4 to one line\n",
    "val6 = d[4][555]\n",
    "print(val6)"
   ]
  },
  {
   "cell_type": "code",
   "execution_count": 25,
   "metadata": {},
   "outputs": [
    {
     "name": "stdout",
     "output_type": "stream",
     "text": [
      "1\n",
      "dict_items([('one', 1), (2, 'two'), ('three', [1.1, 2.22, 3.333]), (4, {'cat': 'dog', 555: '3 fives'})])\n",
      "1\n",
      "(4, {'cat': 'dog', 555: '3 fives'})\n",
      "None\n",
      "two\n",
      "{2: 'two', 'three': 3, 'pie': None, 'hot': 'cold'}\n",
      "{}\n"
     ]
    }
   ],
   "source": [
    "# Add some key:value pair to d\n",
    "d[\"one\"] = 1\n",
    "d[2] = \"two\"\n",
    "d[\"three\"]= [1.1,2.22,3.333]\n",
    "d[4] = {\"cat\": \"dog\", 555: \"3 fives\"}\n",
    "\n",
    "# Get the value of a key\n",
    "print(d.get(\"one\"))\n",
    "\n",
    "# View the key-valur pairs\n",
    "print(d.items())\n",
    "\n",
    "# Remove and return the given key from the dictionary\n",
    "print(d.pop(\"one\"))\n",
    "\n",
    "# Remove and return the latest element from the Dictionary\n",
    "print(d.popitem())\n",
    "\n",
    "# Check the dictionary for a certain key and create it if it doesnt exists, return the value if it does exist\n",
    "print(d.setdefault(\"pie\")) # default value is None if not specified\n",
    "print(d.setdefault(2))\n",
    "\n",
    "# Add a dictionary to another dictionary\n",
    "d2 = {\"hot\": \"cold\", # New keys are added if they dont exist already\n",
    "      \"three\": 3 # Since this key already exists, it will be updated with the new value\n",
    "     }\n",
    "\n",
    "d.update(d2)\n",
    "print(d)\n",
    "\n",
    "# Delete the contents of a dictionary\n",
    "d.clear()\n",
    "print(d)"
   ]
  },
  {
   "cell_type": "code",
   "execution_count": 17,
   "metadata": {},
   "outputs": [
    {
     "name": "stdout",
     "output_type": "stream",
     "text": [
      "{'A': 0, 'B': 1, 'C': 2, 'D': 3, 'E': 4, 'F': 5, 'G': 6, 'H': 7, 'I': 8, 'J': 9}\n",
      "{'A': 1, 'B': 2, 'C': 3, 'D': 4, 'E': 5, 'F': 6, 'G': 7, 'H': 8, 'I': 9, 'J': 10}\n",
      "{'A': 6, 'B': 2, 'C': 8, 'D': 4, 'E': 10, 'F': 6, 'G': 12, 'H': 8, 'I': 14, 'J': 10}\n",
      "{'A': [0, 1, 2, 3, 4, 5], 'B': [0, 1], 'C': [0, 1, 2, 3, 4, 5, 6, 7], 'D': [0, 1, 2, 3], 'E': [0, 1, 2, 3, 4, 5, 6, 7, 8, 9], 'F': [0, 1, 2, 3, 4, 5], 'G': [0, 1, 2, 3, 4, 5, 6, 7, 8, 9, 10, 11], 'H': [0, 1, 2, 3, 4, 5, 6, 7], 'I': [0, 1, 2, 3, 4, 5, 6, 7, 8, 9, 10, 11, 12, 13], 'J': [0, 1, 2, 3, 4, 5, 6, 7, 8, 9]}\n",
      "{'A1': [10, 'X', 'X', 13, 'X', 'X'], 'B1': [10, 'X'], 'C1': [10, 'X', 'X', 13, 'X', 'X', 16, 'X'], 'D1': [10, 'X', 'X', 13], 'E1': [10, 'X', 'X', 13, 'X', 'X', 16, 'X', 'X', 19], 'F1': [10, 'X', 'X', 13, 'X', 'X'], 'G1': [10, 'X', 'X', 13, 'X', 'X', 16, 'X', 'X', 19, 'X', 'X'], 'H1': [10, 'X', 'X', 13, 'X', 'X', 16, 'X'], 'I1': [10, 'X', 'X', 13, 'X', 'X', 16, 'X', 'X', 19, 'X', 'X', 22, 'X'], 'J1': [10, 'X', 'X', 13, 'X', 'X', 16, 'X', 'X', 19]}\n"
     ]
    }
   ],
   "source": [
    "# Create a dictionary using chr() and range()\n",
    "d = {chr(65+x):x for x in range(10)}\n",
    "print(d)\n",
    "\n",
    "# Add 1 to each value\n",
    "d = {k:v+1 for (k,v) in d.items()}\n",
    "print(d)\n",
    "\n",
    "# Keep the value if divisible by 2 else add 5\n",
    "d = {k:v if v%2==0 else v+5 for (k,v) in d.items()}\n",
    "print(d)\n",
    "\n",
    "# Create a list of range value for each key\n",
    "d = {k:[x for x in range(v)] for (k,v) in d.items()}\n",
    "print(d)\n",
    "\n",
    "# Add \"1\" to each key and 10 to each value in the list if it's divisible by 3 else \"X\"\n",
    "d = {k+\"1\":[x+10 if x%3 == 0 else \"X\" for x in v] for (k,v) in d.items()}\n",
    "print(d)"
   ]
  },
  {
   "cell_type": "markdown",
   "metadata": {},
   "source": [
    "### Make sure to rerun the cell above before performing each of your time trials."
   ]
  },
  {
   "cell_type": "code",
   "execution_count": 16,
   "metadata": {},
   "outputs": [
    {
     "name": "stdout",
     "output_type": "stream",
     "text": [
      "CPU times: user 59 µs, sys: 0 ns, total: 59 µs\n",
      "Wall time: 62 µs\n"
     ]
    }
   ],
   "source": [
    "%%time\n",
    "# Iterate through the dictionary and add 3.14 else add -ray\n",
    "for k, v in d.items():\n",
    "    for x in range(len(v)):\n",
    "        if type(v[x]) == int:\n",
    "            d[k][x] = v[x] + 3.14 \n",
    "        else:\n",
    "            d[k][x] = v[x]+\"-ray\""
   ]
  },
  {
   "cell_type": "code",
   "execution_count": 18,
   "metadata": {},
   "outputs": [
    {
     "name": "stdout",
     "output_type": "stream",
     "text": [
      "CPU times: user 33 µs, sys: 0 ns, total: 33 µs\n",
      "Wall time: 36 µs\n"
     ]
    }
   ],
   "source": [
    "%%time\n",
    "# Perform the same task as above except using a comprehension\n",
    "d = {k:[x+3.14 if type(x)==int else x+\"-ray\" for x in v] for (k,v) in d.items()}"
   ]
  }
 ],
 "metadata": {
  "kernelspec": {
   "display_name": "Python 3",
   "language": "python",
   "name": "python3"
  },
  "language_info": {
   "codemirror_mode": {
    "name": "ipython",
    "version": 3
   },
   "file_extension": ".py",
   "mimetype": "text/x-python",
   "name": "python",
   "nbconvert_exporter": "python",
   "pygments_lexer": "ipython3",
   "version": "3.8.2"
  }
 },
 "nbformat": 4,
 "nbformat_minor": 4
}
