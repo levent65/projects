{
 "cells": [
  {
   "cell_type": "code",
   "execution_count": 1,
   "metadata": {},
   "outputs": [
    {
     "name": "stdout",
     "output_type": "stream",
     "text": [
      "An approximate answer to the right question is worth a great deal more than a precise answer to the wrong question.\n",
      "\n",
      "An approximate answer to the right question \n",
      "is worth a great deal more than \n",
      "a precise answer to the wrong question.\n",
      "\n",
      "a precise answer\n",
      "a great deal right???\n",
      "['t', 'o', ' ', 't', 'h', 'e', ' ', 'r', 'i', 'g', 'h', 't', ' ', 'q', 'u', 'e', 's', 't', 'i', 'o', 'n']\n",
      "to the right question\n",
      "['a', 'precise', 'answer']\n",
      "A precise answer to the right question.\n"
     ]
    }
   ],
   "source": [
    "# Single quotes for single lined strings\n",
    "s = \"An approximate answer to the right question is worth a great deal more than a precise answer to the wrong question.\"\n",
    "print(s)\n",
    "\n",
    "# Triple quotes for multi-lined\n",
    "s = \"\"\"\n",
    "An approximate answer to the right question \n",
    "is worth a great deal more than \n",
    "a precise answer to the wrong question.\n",
    "\"\"\"\n",
    "print(s)\n",
    "\n",
    "# String can be sliced like lists\n",
    "a = s[-40:-24]\n",
    "print(a)\n",
    "\n",
    "# Strings can be added and multiplied together\n",
    "print(s[55:68] + s[30:35] + \"?\" * 3)\n",
    "\n",
    "# Splitting a string into a list of letters using list()\n",
    "b = list(s[23:44])\n",
    "print(b)\n",
    "\n",
    "# Joining the letters together using .join()\n",
    "b = \"\".join(b)\n",
    "print(b)\n",
    "\n",
    "# Splitting a string into a list of words\n",
    "a = a.split()\n",
    "print(a)\n",
    "\n",
    "# Joining list \"a\" with whitespace and adding a \" \", b, \".\", and capitalizing\n",
    "ab = (\" \".join(a) + \" \" + b + \".\").capitalize()\n",
    "print(ab)"
   ]
  },
  {
   "cell_type": "code",
   "execution_count": 2,
   "metadata": {},
   "outputs": [
    {
     "name": "stdout",
     "output_type": "stream",
     "text": [
      "44\n"
     ]
    }
   ],
   "source": [
    "# Create a list of methods that only contain all alphanumeric characters using isalpha()\n",
    "c = dir(ab)\n",
    "ls = [c[x] for x in range(len(c)) if c[x].isalpha()]\n",
    "print(len(ls))"
   ]
  },
  {
   "cell_type": "code",
   "execution_count": 179,
   "metadata": {},
   "outputs": [
    {
     "name": "stdout",
     "output_type": "stream",
     "text": [
      "QUESTION question Question qUESTION\n",
      "QUESTION quest Quest qUESTION\n"
     ]
    },
    {
     "data": {
      "text/plain": [
       "'0////|==Quest*For*The*Holy*Grail==>'"
      ]
     },
     "execution_count": 179,
     "metadata": {},
     "output_type": "execute_result"
    }
   ],
   "source": [
    "c = s[35:46]\n",
    "c\n",
    "\n",
    "# Add white space padding to the right then left, then center the string\n",
    "c = c.rjust(30)\n",
    "c = c.ljust(40)\n",
    "\n",
    "# # Removing whitespace using rstrip(), lstrip() then both sides with strip()\n",
    "c = c.rstrip()\n",
    "c = c.lstrip()\n",
    "c = c.strip()\n",
    "\n",
    "# Changing letter case with upper(), lower(), title(), and swapcase()\n",
    "d = c.upper()\n",
    "e = d.lower()\n",
    "f = e.title()\n",
    "g = f.swapcase()\n",
    "\n",
    "ls2 = [d, e, f, g]\n",
    "print(*ls2)\n",
    "\n",
    "# Using replace() to change instances of \"ion\" with nothing, this is case sensitive\n",
    "ls3 = [x.replace(\"ion\", \"\") for x in ls2]\n",
    "print(*ls3)\n",
    "\n",
    "# Chaining string methods without escaping\n",
    "d.rjust(10, \"=\").ljust(12, \"=\").lower().replace(\"ion\", \" for the holy grail\").replace(\" \", \"*\").title().rjust(29, \"|\").rjust(33, \"/\").rjust(34, \"0\").ljust(35, \">\")\n",
    "\n",
    "# Chaining string methods together with escaping\n",
    "d.rjust(10, \"=\")\\\n",
    ".ljust(12, \"=\")\\\n",
    ".lower()\\\n",
    ".replace(\"ion\", \" for the holy grail\")\\\n",
    ".replace(\" \", \"*\")\\\n",
    ".title()\\\n",
    ".rjust(29, \"|\")\\\n",
    ".rjust(33, \"/\")\\\n",
    ".rjust(34, \"0\")\\\n",
    ".ljust(35, \">\")"
   ]
  },
  {
   "cell_type": "code",
   "execution_count": 209,
   "metadata": {},
   "outputs": [
    {
     "name": "stdout",
     "output_type": "stream",
     "text": [
      "Hello Monty Python\n",
      "Hello MONTY pYTHON\n",
      "Look over there Monty!\n",
      "Look over there ['M', 'O', 'N', 'T', 'Y']!\n",
      "We meet at last Mr.Python, MuaHahaHaha!\n"
     ]
    }
   ],
   "source": [
    "first = \"Monty\"\n",
    "last = \"Python\"\n",
    "\n",
    "# % operator\n",
    "print(\"Hello %s %s\" % (first, last))\n",
    "print(\"Hello %s %s\" % (first.upper(), last.swapcase()))\n",
    "\n",
    "# format\n",
    "print(\"Look over there {}!\".format(first))\n",
    "print(\"Look over there {}!\".format([x.upper() for x in first]))\n",
    "\n",
    "# f-strings\n",
    "print(f\"We meet at last Mr.{last}, {('Mua'+'Haha'*2)}!\")"
   ]
  }
 ],
 "metadata": {
  "kernelspec": {
   "display_name": "Python 3",
   "language": "python",
   "name": "python3"
  },
  "language_info": {
   "codemirror_mode": {
    "name": "ipython",
    "version": 3
   },
   "file_extension": ".py",
   "mimetype": "text/x-python",
   "name": "python",
   "nbconvert_exporter": "python",
   "pygments_lexer": "ipython3",
   "version": "3.8.2"
  }
 },
 "nbformat": 4,
 "nbformat_minor": 4
}
