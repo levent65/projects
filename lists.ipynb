{
 "cells": [
  {
   "cell_type": "code",
   "execution_count": 1,
   "metadata": {},
   "outputs": [
    {
     "name": "stdout",
     "output_type": "stream",
     "text": [
      "[0, 1, 2, 3, 4]\n",
      "[0, 1, 2, 3, 4]\n",
      "[0, 1, 2, 3, 4]\n",
      "['k', 'o', 'n', 'n', 'i', 'c', 'h', 'i', 'w', 'a']\n",
      "k\n"
     ]
    }
   ],
   "source": [
    "# Typing our list out\n",
    "list1 = [0,1,2,3,4]\n",
    "print(list1)\n",
    "\n",
    "# Creating a list by iterating through a range of numbers\n",
    "rng = 5 # determine how many elements are in out list\n",
    "list2 = [] # create an empty list to add elements into\n",
    "for x in range(rng): # iterate through the range\n",
    "    list2.append(x) # add each element to the list\n",
    "print(list2)\n",
    "\n",
    "\n",
    "# Using the range() function and list comprehension to make a list\n",
    "list3 = [x for x in range(rng)] \n",
    "print(list3)\n",
    "\n",
    "# Strings are lists\n",
    "a = \"konnichiwa\"\n",
    "print(list(a))\n",
    "print(a[0])"
   ]
  },
  {
   "cell_type": "code",
   "execution_count": 2,
   "metadata": {},
   "outputs": [
    {
     "name": "stdout",
     "output_type": "stream",
     "text": [
      "[0, 1, 2, 3, 4, 100, 4, 2]\n",
      "[0, 1, 2, 2, 3, 4, 4, 100]\n",
      "[0, -1, -2, -2, -3, -4, -4, -100]\n",
      "0\n",
      "-100\n",
      "[0, -1, -2, -2, -3, -4, -4, -100, 200, 300, 400]\n",
      "['ABC', 0, -1, -2, -2, -3, -4, -4, -100, 200, 300, 400]\n",
      "['ABC', 0, -1, -2, -2, -3, -4, -4, 200, 300, 400]\n",
      "11\n",
      "2\n",
      "[400, 300, 200, -4, -4, -3, -2, -2, -1, 0, 'ABC']\n"
     ]
    }
   ],
   "source": [
    "# Add an item to the end of a list\n",
    "list1.append(100)\n",
    "list1.append(4)\n",
    "list1.append(2)\n",
    "print(list1)\n",
    "\n",
    "# Sort the list\n",
    "list1.sort()\n",
    "print(list1)\n",
    "\n",
    "# Map over a list with a function\n",
    "list1 = list(map(lambda x: x*-1, list1))\n",
    "print(list1)\n",
    "\n",
    "# Get the max value in a list\n",
    "max_val = max(list1)\n",
    "print(max_val)\n",
    "\n",
    "# Get the minimum value in a lsit\n",
    "min_val = min(list1)\n",
    "print(min_val)\n",
    "\n",
    "# Add all elements of a list to a single list\n",
    "list1.extend([200, 300, 400])\n",
    "print(list1)\n",
    "\n",
    "# Insert an element at a specific index position\n",
    "list1.insert(0, \"ABC\")\n",
    "print(list1)\n",
    "\n",
    "# Remove the first value in a list equal to user input\n",
    "list1.remove(-100)\n",
    "print(list1)\n",
    "\n",
    "# Return the index location of an element or list of elements\n",
    "list1.index(0)\n",
    "\n",
    "# Return the numbre of elements in a list\n",
    "length = len(list1)\n",
    "print(length)\n",
    "\n",
    "# Return the number of times an element appears\n",
    "count = list1.count(-4)\n",
    "print(count)\n",
    "\n",
    "# Reverse the order of the list\n",
    "list1.reverse()\n",
    "print(list1)"
   ]
  },
  {
   "cell_type": "code",
   "execution_count": 3,
   "metadata": {},
   "outputs": [
    {
     "name": "stdout",
     "output_type": "stream",
     "text": [
      "1\n",
      "5\n",
      "1\n",
      "5\n"
     ]
    },
    {
     "ename": "IndexError",
     "evalue": "list index out of range",
     "output_type": "error",
     "traceback": [
      "\u001b[0;31m---------------------------------------------------------------------------\u001b[0m",
      "\u001b[0;31mIndexError\u001b[0m                                Traceback (most recent call last)",
      "\u001b[0;32m<ipython-input-3-d4250c6ca143>\u001b[0m in \u001b[0;36m<module>\u001b[0;34m\u001b[0m\n\u001b[1;32m      9\u001b[0m \u001b[0mprint\u001b[0m\u001b[0;34m(\u001b[0m\u001b[0mlist4\u001b[0m\u001b[0;34m[\u001b[0m\u001b[0;34m-\u001b[0m\u001b[0;36m1\u001b[0m\u001b[0;34m]\u001b[0m\u001b[0;34m)\u001b[0m\u001b[0;34m\u001b[0m\u001b[0;34m\u001b[0m\u001b[0m\n\u001b[1;32m     10\u001b[0m \u001b[0;31m# Indexing the 5th element (Will return an error)?\u001b[0m\u001b[0;34m\u001b[0m\u001b[0;34m\u001b[0m\u001b[0;34m\u001b[0m\u001b[0m\n\u001b[0;32m---> 11\u001b[0;31m \u001b[0mprint\u001b[0m\u001b[0;34m(\u001b[0m\u001b[0mlist4\u001b[0m\u001b[0;34m[\u001b[0m\u001b[0;36m5\u001b[0m\u001b[0;34m]\u001b[0m\u001b[0;34m)\u001b[0m\u001b[0;34m\u001b[0m\u001b[0;34m\u001b[0m\u001b[0m\n\u001b[0m",
      "\u001b[0;31mIndexError\u001b[0m: list index out of range"
     ]
    }
   ],
   "source": [
    "list4 = [1,2,3,4,5]\n",
    "# Indexing the first element\n",
    "print(list4[0])\n",
    "#Indexing the last element\n",
    "print(list4[4])\n",
    "# Indexing the first element negatively\n",
    "print(list4[-5])\n",
    "# Indexing the last element negatively\n",
    "print(list4[-1])\n",
    "# Indexing the 5th element (Will return an error)?\n",
    "print(list4[5])"
   ]
  },
  {
   "cell_type": "code",
   "execution_count": 4,
   "metadata": {},
   "outputs": [
    {
     "name": "stdout",
     "output_type": "stream",
     "text": [
      "[0, 1, 2, 3, 4, 5, 6, 7, 8, 9]\n",
      "[0, 1, 2, 3, 4, 5, 6, 7, 8, 9]\n",
      "[0, 1, 2, 3, 4]\n",
      "[5, 6, 7, 8, 9]\n",
      "[0, 1, 2, 3, 4]\n"
     ]
    }
   ],
   "source": [
    "list5 = [x for x in range(10)]\n",
    "print(list5)\n",
    "# list5[:] - returns the entire list\n",
    "print(list5[:])\n",
    "# list5[start:stop] - all elements from \"start\" to \"stop\"-1\n",
    "print(list5[0:5])\n",
    "# list5[start:]  - all elements from start to end of list\n",
    "print(list5[5:])\n",
    "# list5[:stop] - all elements from the start of list to the stop-1\n",
    "print(list5[:5])"
   ]
  },
  {
   "cell_type": "code",
   "execution_count": 5,
   "metadata": {},
   "outputs": [
    {
     "name": "stdout",
     "output_type": "stream",
     "text": [
      "0\n",
      "9\n",
      "[0, 1, 2, 3, 4, 5, 6, 7, 8, 9]\n",
      "[5, 6, 7, 8, 9]\n",
      "[0, 1, 2, 3, 4]\n"
     ]
    }
   ],
   "source": [
    "# Return the first element\n",
    "print(list5[-10])\n",
    "\n",
    "# Return the last element\n",
    "print(list5[-1])\n",
    "\n",
    "# Return the entire list\n",
    "print(list5[-10:])\n",
    "\n",
    "# Return the last 5 elements\n",
    "print(list5[-5:])\n",
    "\n",
    "# Return the first 5 elements\n",
    "print(list5[-10:-5])"
   ]
  },
  {
   "cell_type": "code",
   "execution_count": 6,
   "metadata": {},
   "outputs": [
    {
     "name": "stdout",
     "output_type": "stream",
     "text": [
      "[0, 2, 4, 6, 8]\n",
      "[0, 3, 6, 9]\n",
      "[4, 8]\n",
      "[9, 8, 7, 6, 5, 4, 3, 2, 1, 0]\n",
      "[9, 7, 5, 3, 1]\n"
     ]
    }
   ],
   "source": [
    "# Return every other element\n",
    "print(list5[::2])\n",
    "\n",
    "# Return every 3rd element\n",
    "print(list5[::3])\n",
    "\n",
    "# Return every 4th element starting from 4\n",
    "print(list5[4::4])\n",
    "\n",
    "# Return the list in reverse order\n",
    "print(list5[::-1])\n",
    "\n",
    "# Return every other element in reverse\n",
    "print(list5[::-2])"
   ]
  },
  {
   "cell_type": "code",
   "execution_count": 7,
   "metadata": {},
   "outputs": [
    {
     "name": "stdout",
     "output_type": "stream",
     "text": [
      "[0, 1, 2, 3, 4, 5, 6, 7, 8, 9]\n",
      "[100, 101, 102, 103, 104, 105, 106, 107, 108, 109]\n",
      "[0, 2, 4, 6, 8]\n",
      "[0, 'X', 'X', 3, 'X', 'X', 6, 'X', 'X', 9]\n",
      "[[0, 1, 2], [2, 3, 4], [4, 5, 6], [6, 7, 8], [8, 9, 10]]\n"
     ]
    }
   ],
   "source": [
    "# Simple List comprehension\n",
    "list6 = [x for x in range(10)]\n",
    "print(list6)\n",
    "\n",
    "# Simple arithmatic using list comprehension\n",
    "list7 = [x+100 for x in range(10)]\n",
    "print(list7)\n",
    "\n",
    "# Using an \"if\" statement to select even numbers\n",
    "list8 = [x for x in range(10) if x%2 == 0]\n",
    "print(list8)\n",
    "\n",
    "# Using if-else statments\n",
    "list9 = [x if x%3 == 0 else \"X\" for x in list6]\n",
    "print(list9)\n",
    "\n",
    "# Creating a list of lists from a list\n",
    "list10 = [[x, x+1, x+2] for x in list8]\n",
    "print(list10)"
   ]
  },
  {
   "cell_type": "code",
   "execution_count": null,
   "metadata": {},
   "outputs": [],
   "source": []
  }
 ],
 "metadata": {
  "kernelspec": {
   "display_name": "Python 3",
   "language": "python",
   "name": "python3"
  },
  "language_info": {
   "codemirror_mode": {
    "name": "ipython",
    "version": 3
   },
   "file_extension": ".py",
   "mimetype": "text/x-python",
   "name": "python",
   "nbconvert_exporter": "python",
   "pygments_lexer": "ipython3",
   "version": "3.8.2"
  }
 },
 "nbformat": 4,
 "nbformat_minor": 4
}
